{
 "metadata": {
  "language_info": {
   "codemirror_mode": {
    "name": "ipython",
    "version": 3
   },
   "file_extension": ".py",
   "mimetype": "text/x-python",
   "name": "python",
   "nbconvert_exporter": "python",
   "pygments_lexer": "ipython3",
   "version": "3.7.9-final"
  },
  "orig_nbformat": 2,
  "kernelspec": {
   "name": "python3",
   "display_name": "Python 3"
  }
 },
 "nbformat": 4,
 "nbformat_minor": 2,
 "cells": [
  {
   "cell_type": "code",
   "execution_count": null,
   "metadata": {},
   "outputs": [],
   "source": [
    "#Reagan Berhe\n",
    "#Assignment1\n",
    "#09/08/2020"
   ]
  },
  {
   "cell_type": "code",
   "execution_count": 8,
   "metadata": {
    "tags": []
   },
   "outputs": [
    {
     "output_type": "stream",
     "name": "stdout",
     "text": "5\n"
    },
    {
     "output_type": "execute_result",
     "data": {
      "text/plain": "                  Student              Hash_id\n13      Jamison Valentine -8010483234696604880\n2           Solomon Berhe -1099123881744416934\n6           Jason Manning  6729191785026611246\n30  Pragna Tarali Talluri -5415828377393777804\n18       Harika Cherukuri -3305872199329515624\n16           Raiana Zaman  7742713733844653691",
      "text/html": "<div>\n<style scoped>\n    .dataframe tbody tr th:only-of-type {\n        vertical-align: middle;\n    }\n\n    .dataframe tbody tr th {\n        vertical-align: top;\n    }\n\n    .dataframe thead th {\n        text-align: right;\n    }\n</style>\n<table border=\"1\" class=\"dataframe\">\n  <thead>\n    <tr style=\"text-align: right;\">\n      <th></th>\n      <th>Student</th>\n      <th>Hash_id</th>\n    </tr>\n  </thead>\n  <tbody>\n    <tr>\n      <th>13</th>\n      <td>Jamison Valentine</td>\n      <td>-8010483234696604880</td>\n    </tr>\n    <tr>\n      <th>2</th>\n      <td>Solomon Berhe</td>\n      <td>-1099123881744416934</td>\n    </tr>\n    <tr>\n      <th>6</th>\n      <td>Jason Manning</td>\n      <td>6729191785026611246</td>\n    </tr>\n    <tr>\n      <th>30</th>\n      <td>Pragna Tarali Talluri</td>\n      <td>-5415828377393777804</td>\n    </tr>\n    <tr>\n      <th>18</th>\n      <td>Harika Cherukuri</td>\n      <td>-3305872199329515624</td>\n    </tr>\n    <tr>\n      <th>16</th>\n      <td>Raiana Zaman</td>\n      <td>7742713733844653691</td>\n    </tr>\n  </tbody>\n</table>\n</div>"
     },
     "metadata": {},
     "execution_count": 8
    }
   ],
   "source": [
    "#####################################################\n",
    "# def csv library reader with csv library imported that also turn it to a list so that easier to itreate(it is also optional to find modules or funtion to do it so ... in shorter line sense)\n",
    "import csv \n",
    "import pandas as pd \n",
    "import numpy as np \n",
    "import random\n",
    "def lib_reader():\n",
    "    students_file_reader = pd.read_csv('../src/fallStudents.csv','r',delimiter='\\t')\n",
    "    return students_file_reader\n",
    "student_list = pd.DataFrame(lib_reader())\n",
    "n = int(input(\"Enter something: \"))\n",
    "m = len(student_list.index)//n\n",
    "print(m)\n",
    "#student_list.sample(frac =1).head(n)\n",
    "while (m):\n",
    "    if m >= 0:\n",
    "        df = pd.DataFrame(student_list) \n",
    "        print(df.sample(n))\n",
    "        return m-1\n",
    "    else: \n",
    "        return False\n",
    "\n",
    "\n",
    "##what are the imported modules? \n",
    "\n",
    "\n",
    "##what are my variable?\n",
    "#gk = student_list.groupby('Student')  \n",
    "#gk.first()\n",
    "###Name\n",
    "\n",
    "   ###what for? \n",
    "   ###what to name it to for\n",
    "###Type \n",
    "###initval\n",
    "##return the list of the students file "
   ]
  },
  {
   "cell_type": "code",
   "execution_count": 24,
   "metadata": {},
   "outputs": [],
   "source": [
    "#def is also take the list file of students and itrate through it by using input value (WARNING: that is last optional thing>>> :ME) .... it is also ideal to use random modules.\n",
    "##what are the imported modules? \n",
    "##what are my variable?\n",
    "###Name\n",
    "   ###what for? \n",
    "   ###what to name it to for\n",
    "###Type \n",
    "###initval\n",
    "##loop through the list by using hash_id column \n",
    "##also that has its new index to it\n",
    "##\n",
    "##returns randomily selected group randomly and create a loop"
   ]
  },
  {
   "cell_type": "code",
   "execution_count": null,
   "metadata": {},
   "outputs": [],
   "source": [
    "#def this function will write a group in new file\n",
    "##what are the imported modules? \n",
    "##what are my variable?\n",
    "###Name\n",
    "   ###what for? \n",
    "   ###what to name it to for\n",
    "###Type \n",
    "###initval\n",
    "        #input\n",
    "            #variable:where answer from user will be stored ****************\n",
    "            #message: question \n",
    "##need to take the value from upstair ... lol i mean randomly selected group in a new file\n",
    "##actually that was the return  value suppose to be"
   ]
  },
  {
   "cell_type": "code",
   "execution_count": 10,
   "metadata": {
    "tags": []
   },
   "outputs": [
    {
     "output_type": "stream",
     "name": "stdout",
     "text": "68\n"
    }
   ],
   "source": [
    "##this is an open spot for testing part of codes\n",
    "#################################################\n",
    "##sentry: integer variable that will control loop\n",
    "##Strat: integer value of sentry at begining \n",
    "##Finish: integer value of sentry at end \n",
    "##change: integer to add to sentry at each pass \n",
    "x = 0\n",
    "y = 0 \n",
    "sum = 0\n",
    "x = input(\"Enter the first number: \")\n",
    "y = input(\"Enter the second number: \")\n",
    "x = int(x)\n",
    "y = int(y)\n",
    "sum = x + y\n",
    "print(sum)\n"
   ]
  },
  {
   "cell_type": "code",
   "execution_count": 11,
   "metadata": {
    "tags": []
   },
   "outputs": [
    {
     "output_type": "stream",
     "name": "stdout",
     "text": "try # 1\ntry # 2\ntry # 3\nToo many wrong ties. Launching missiles\n"
    }
   ],
   "source": [
    "\"\"\"KeepGoing.py\n",
    "   Demonstrate loop with multiple exits \n",
    "   \"\"\"\n",
    "correct = \"Indypy\"\n",
    "tries = 0 \n",
    "\n",
    "keepGoing = True\n",
    "while(keepGoing): \n",
    "\n",
    "    tries = tries +1 \n",
    "    print(\"try #\", tries)\n",
    "\n",
    "    guess = input(\"What is the password: \")\n",
    "    if guess == correct:\n",
    "        print(\"That's correct! here is a treasure! \")\n",
    "        keepGoing = False\n",
    "\n",
    "    elif tries >= 3:\n",
    "        print(\"Too many wrong ties. Launching missiles\")\n",
    "        keepGoing = False"
   ]
  },
  {
   "cell_type": "code",
   "execution_count": 12,
   "metadata": {
    "tags": []
   },
   "outputs": [
    {
     "output_type": "stream",
     "name": "stdout",
     "text": "Hi, Reagan\n"
    }
   ],
   "source": [
    "name = input(\"what is your name? \")\n",
    "print(\"Hi, {}\".format(name))"
   ]
  },
  {
   "cell_type": "code",
   "execution_count": null,
   "metadata": {},
   "outputs": [],
   "source": []
  }
 ]
}