{
 "metadata": {
  "language_info": {
   "codemirror_mode": {
    "name": "ipython",
    "version": 3
   },
   "file_extension": ".py",
   "mimetype": "text/x-python",
   "name": "python",
   "nbconvert_exporter": "python",
   "pygments_lexer": "ipython3",
   "version": "3.7.9-final"
  },
  "orig_nbformat": 2,
  "kernelspec": {
   "name": "python3",
   "display_name": "Python 3"
  }
 },
 "nbformat": 4,
 "nbformat_minor": 2,
 "cells": [
  {
   "cell_type": "code",
   "execution_count": null,
   "metadata": {},
   "outputs": [],
   "source": [
    "#Reagan Berhe\n",
    "#Assignment1\n",
    "#09/08/2020"
   ]
  },
  {
   "cell_type": "code",
   "execution_count": 75,
   "metadata": {
    "tags": []
   },
   "outputs": [
    {
     "output_type": "execute_result",
     "data": {
      "text/plain": "                      Student              Hash_id\n0                Ali Altamimi -5827033472622716890\n1        Harinderveer Badesha -2070052029797912257\n2               Solomon Berhe -1099123881744416934\n3        Christopher Brantley  -695993714492741554\n4                Nadia Doudou -8293841509607106703\n5             Andrew Kawabata -2295906907469740116\n6               Jason Manning  6729191785026611246\n7               Alex Penaloza  2819579966094765319\n8               Francis Perez  7121637218959815285\n9              Amantii Samson -2106861634941313976\n10               Isaac Taylor  1411583132783385946\n11           Quinn Tjin-a-soe  5111078232283153860\n12           Katelynn Urgitus  -949226895385040933\n13          Jamison Valentine -8010483234696604880\n14         Tyler Wallschleger -1255795335168677361\n15           Serena Wisnewski  4654136525107463358\n16               Raiana Zaman  7742713733844653691\n17               Himaja Avula -1277120681752197621\n18           Harika Cherukuri -3305872199329515624\n19               Mustafa Dere  5766488569524362599\n20                 Renhua Guo -6491867970585459806\n21  Rashmi Hassan Udaya Kumar  8962235084370848197\n22                 Ritu Joshi   761861860507827969\n23        Samhitha Kachapuram  -432922863203962415\n24              Sanam Khalili -5958269882118250525\n25          Shravya Muttineni  2534912611900926672\n26            Nikitha Narsing  6496922049150786289\n27      Vyankteshprasad Sathe  4125177016738157512\n28                 Tingyu Shi  1130226862592949290\n29               Carrie Stott  2942246989690436998\n30      Pragna Tarali Talluri -5415828377393777804\n31      Sadhana Thummalapenta -5860314708908377816\n32            Amulya Yadagani  3578090679313790194\n33                 Peter Yuan  7947615571241282039\n34               Xinrui Zhang  4758487699251603117",
      "text/html": "<div>\n<style scoped>\n    .dataframe tbody tr th:only-of-type {\n        vertical-align: middle;\n    }\n\n    .dataframe tbody tr th {\n        vertical-align: top;\n    }\n\n    .dataframe thead th {\n        text-align: right;\n    }\n</style>\n<table border=\"1\" class=\"dataframe\">\n  <thead>\n    <tr style=\"text-align: right;\">\n      <th></th>\n      <th>Student</th>\n      <th>Hash_id</th>\n    </tr>\n  </thead>\n  <tbody>\n    <tr>\n      <th>0</th>\n      <td>Ali Altamimi</td>\n      <td>-5827033472622716890</td>\n    </tr>\n    <tr>\n      <th>1</th>\n      <td>Harinderveer Badesha</td>\n      <td>-2070052029797912257</td>\n    </tr>\n    <tr>\n      <th>2</th>\n      <td>Solomon Berhe</td>\n      <td>-1099123881744416934</td>\n    </tr>\n    <tr>\n      <th>3</th>\n      <td>Christopher Brantley</td>\n      <td>-695993714492741554</td>\n    </tr>\n    <tr>\n      <th>4</th>\n      <td>Nadia Doudou</td>\n      <td>-8293841509607106703</td>\n    </tr>\n    <tr>\n      <th>5</th>\n      <td>Andrew Kawabata</td>\n      <td>-2295906907469740116</td>\n    </tr>\n    <tr>\n      <th>6</th>\n      <td>Jason Manning</td>\n      <td>6729191785026611246</td>\n    </tr>\n    <tr>\n      <th>7</th>\n      <td>Alex Penaloza</td>\n      <td>2819579966094765319</td>\n    </tr>\n    <tr>\n      <th>8</th>\n      <td>Francis Perez</td>\n      <td>7121637218959815285</td>\n    </tr>\n    <tr>\n      <th>9</th>\n      <td>Amantii Samson</td>\n      <td>-2106861634941313976</td>\n    </tr>\n    <tr>\n      <th>10</th>\n      <td>Isaac Taylor</td>\n      <td>1411583132783385946</td>\n    </tr>\n    <tr>\n      <th>11</th>\n      <td>Quinn Tjin-a-soe</td>\n      <td>5111078232283153860</td>\n    </tr>\n    <tr>\n      <th>12</th>\n      <td>Katelynn Urgitus</td>\n      <td>-949226895385040933</td>\n    </tr>\n    <tr>\n      <th>13</th>\n      <td>Jamison Valentine</td>\n      <td>-8010483234696604880</td>\n    </tr>\n    <tr>\n      <th>14</th>\n      <td>Tyler Wallschleger</td>\n      <td>-1255795335168677361</td>\n    </tr>\n    <tr>\n      <th>15</th>\n      <td>Serena Wisnewski</td>\n      <td>4654136525107463358</td>\n    </tr>\n    <tr>\n      <th>16</th>\n      <td>Raiana Zaman</td>\n      <td>7742713733844653691</td>\n    </tr>\n    <tr>\n      <th>17</th>\n      <td>Himaja Avula</td>\n      <td>-1277120681752197621</td>\n    </tr>\n    <tr>\n      <th>18</th>\n      <td>Harika Cherukuri</td>\n      <td>-3305872199329515624</td>\n    </tr>\n    <tr>\n      <th>19</th>\n      <td>Mustafa Dere</td>\n      <td>5766488569524362599</td>\n    </tr>\n    <tr>\n      <th>20</th>\n      <td>Renhua Guo</td>\n      <td>-6491867970585459806</td>\n    </tr>\n    <tr>\n      <th>21</th>\n      <td>Rashmi Hassan Udaya Kumar</td>\n      <td>8962235084370848197</td>\n    </tr>\n    <tr>\n      <th>22</th>\n      <td>Ritu Joshi</td>\n      <td>761861860507827969</td>\n    </tr>\n    <tr>\n      <th>23</th>\n      <td>Samhitha Kachapuram</td>\n      <td>-432922863203962415</td>\n    </tr>\n    <tr>\n      <th>24</th>\n      <td>Sanam Khalili</td>\n      <td>-5958269882118250525</td>\n    </tr>\n    <tr>\n      <th>25</th>\n      <td>Shravya Muttineni</td>\n      <td>2534912611900926672</td>\n    </tr>\n    <tr>\n      <th>26</th>\n      <td>Nikitha Narsing</td>\n      <td>6496922049150786289</td>\n    </tr>\n    <tr>\n      <th>27</th>\n      <td>Vyankteshprasad Sathe</td>\n      <td>4125177016738157512</td>\n    </tr>\n    <tr>\n      <th>28</th>\n      <td>Tingyu Shi</td>\n      <td>1130226862592949290</td>\n    </tr>\n    <tr>\n      <th>29</th>\n      <td>Carrie Stott</td>\n      <td>2942246989690436998</td>\n    </tr>\n    <tr>\n      <th>30</th>\n      <td>Pragna Tarali Talluri</td>\n      <td>-5415828377393777804</td>\n    </tr>\n    <tr>\n      <th>31</th>\n      <td>Sadhana Thummalapenta</td>\n      <td>-5860314708908377816</td>\n    </tr>\n    <tr>\n      <th>32</th>\n      <td>Amulya Yadagani</td>\n      <td>3578090679313790194</td>\n    </tr>\n    <tr>\n      <th>33</th>\n      <td>Peter Yuan</td>\n      <td>7947615571241282039</td>\n    </tr>\n    <tr>\n      <th>34</th>\n      <td>Xinrui Zhang</td>\n      <td>4758487699251603117</td>\n    </tr>\n  </tbody>\n</table>\n</div>"
     },
     "metadata": {},
     "execution_count": 75
    }
   ],
   "source": [
    "import pandas as pd                                                           #import modules to read file that is panda\n",
    "import numpy as np \n",
    "students_file = pd.read_csv(\"../src/fallStudents.csv\", delimiter='\\t') #file dir for cvs file (change file type .tsv)\n",
    "students_file                                                          #Display for csv file succesfully imprted\n",
    "\n",
    "\n"
   ]
  },
  {
   "cell_type": "code",
   "execution_count": 93,
   "metadata": {},
   "outputs": [],
   "source": [
    "#This function allow the user to insert their number of students the need\n",
    "def input_value(numbers_of_group, number_of_students):\n",
    "    number_of_students = student_file.count                             \n",
    "    numbers_of_group = int(input(\"Enter number of group your choice: \"))\n",
    "    for numbers_of_group in range(number_of_students):\n",
    "        return number_of_students//numbers_of_group\n",
    "    group_idx = np.random.choice( x, replace=False, size= x)\n",
    "    return student_file.iloc[group_idx]  \n",
    "\n",
    "\n"
   ]
  },
  {
   "cell_type": "code",
   "execution_count": null,
   "metadata": {},
   "outputs": [],
   "source": [
    "#This function create groups by the given number "
   ]
  },
  {
   "cell_type": "code",
   "execution_count": null,
   "metadata": {},
   "outputs": [],
   "source": [
    "#This function write file on .csv file"
   ]
  }
 ]
}