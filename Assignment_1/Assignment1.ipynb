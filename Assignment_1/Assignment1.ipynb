{
 "metadata": {
  "language_info": {
   "codemirror_mode": {
    "name": "ipython",
    "version": 3
   },
   "file_extension": ".py",
   "mimetype": "text/x-python",
   "name": "python",
   "nbconvert_exporter": "python",
   "pygments_lexer": "ipython3",
   "version": "3.7.9-final"
  },
  "orig_nbformat": 2,
  "kernelspec": {
   "name": "python3",
   "display_name": "Python 3"
  }
 },
 "nbformat": 4,
 "nbformat_minor": 2,
 "cells": [
  {
   "cell_type": "code",
   "execution_count": 21,
   "metadata": {},
   "outputs": [],
   "source": [
    "#C:\\Users\\Reagan\\Desktop\\UNCG\\FALL2020\\DataScience\\CSC-405-605_Fall_2020\\Assignment\\Assignment_1\\Data\\fallStudents.tsv"
   ]
  },
  {
   "cell_type": "code",
   "execution_count": 50,
   "metadata": {
    "tags": []
   },
   "outputs": [],
   "source": [
    "\n",
    "import pandas as pd \n",
    "import csv\n",
    "def read_csv_file():\n",
    "    csv_file_reader = csv.reader('fallStudents.tsv','r', delimiter='\\t')\n",
    "    for row in csv_file_reader:\n",
    "        csv_file_reader.head(5)"
   ]
  },
  {
   "cell_type": "code",
   "execution_count": null,
   "metadata": {},
   "outputs": [],
   "source": [
    "from random import shuffle\n",
    "\n",
    "with open(pht) as ip:\n",
    "    lines=ip.readlines()\n",
    "    header = lines.pop(0)\n",
    "    shuffle(lines)\n",
    "    lines.insert(0, header)\n",
    "\n"
   ]
  }
 ]
}